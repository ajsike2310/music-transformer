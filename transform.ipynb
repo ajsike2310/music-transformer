{
 "cells": [
  {
   "cell_type": "code",
   "execution_count": 1,
   "metadata": {},
   "outputs": [
    {
     "name": "stdout",
     "output_type": "stream",
     "text": [
      "Defaulting to user installation because normal site-packages is not writeable\n",
      "Requirement already satisfied: pretty_midi in c:\\users\\avin\\appdata\\roaming\\python\\python312\\site-packages (0.2.10)\n",
      "Requirement already satisfied: torch in c:\\users\\avin\\appdata\\roaming\\python\\python312\\site-packages (2.7.0)\n",
      "Requirement already satisfied: numpy in c:\\users\\avin\\appdata\\roaming\\python\\python312\\site-packages (1.26.4)\n",
      "Requirement already satisfied: tqdm in c:\\users\\avin\\appdata\\roaming\\python\\python312\\site-packages (4.67.1)\n",
      "Requirement already satisfied: mido>=1.1.16 in c:\\users\\avin\\appdata\\roaming\\python\\python312\\site-packages (from pretty_midi) (1.3.3)\n",
      "Requirement already satisfied: six in c:\\users\\avin\\appdata\\roaming\\python\\python312\\site-packages (from pretty_midi) (1.16.0)\n",
      "Requirement already satisfied: filelock in c:\\users\\avin\\appdata\\roaming\\python\\python312\\site-packages (from torch) (3.16.1)\n",
      "Requirement already satisfied: typing-extensions>=4.10.0 in c:\\users\\avin\\appdata\\roaming\\python\\python312\\site-packages (from torch) (4.12.2)\n",
      "Requirement already satisfied: sympy>=1.13.3 in c:\\users\\avin\\appdata\\roaming\\python\\python312\\site-packages (from torch) (1.14.0)\n",
      "Requirement already satisfied: networkx in c:\\users\\avin\\appdata\\roaming\\python\\python312\\site-packages (from torch) (3.5)\n",
      "Requirement already satisfied: jinja2 in c:\\users\\avin\\appdata\\roaming\\python\\python312\\site-packages (from torch) (3.1.5)\n",
      "Requirement already satisfied: fsspec in c:\\users\\avin\\appdata\\roaming\\python\\python312\\site-packages (from torch) (2025.5.1)\n",
      "Requirement already satisfied: setuptools in c:\\users\\avin\\appdata\\roaming\\python\\python312\\site-packages (from torch) (75.2.0)\n",
      "Requirement already satisfied: colorama in c:\\users\\avin\\appdata\\roaming\\python\\python312\\site-packages (from tqdm) (0.4.6)\n",
      "Requirement already satisfied: packaging in c:\\users\\avin\\appdata\\roaming\\python\\python312\\site-packages (from mido>=1.1.16->pretty_midi) (24.1)\n",
      "Requirement already satisfied: mpmath<1.4,>=1.1.0 in c:\\users\\avin\\appdata\\roaming\\python\\python312\\site-packages (from sympy>=1.13.3->torch) (1.3.0)\n",
      "Requirement already satisfied: MarkupSafe>=2.0 in c:\\users\\avin\\appdata\\roaming\\python\\python312\\site-packages (from jinja2->torch) (3.0.2)\n"
     ]
    },
    {
     "name": "stderr",
     "output_type": "stream",
     "text": [
      "\n",
      "[notice] A new release of pip is available: 24.3.1 -> 25.1.1\n",
      "[notice] To update, run: python.exe -m pip install --upgrade pip\n"
     ]
    }
   ],
   "source": [
    "# Install requirements  \n",
    "!pip install pretty_midi torch numpy tqdm"
   ]
  },
  {
   "cell_type": "code",
   "execution_count": 2,
   "metadata": {},
   "outputs": [
    {
     "name": "stdout",
     "output_type": "stream",
     "text": [
      "Microsoft Visual C++ Redistributable is not installed, this may lead to the DLL load failure.\n",
      "It can be downloaded at https://aka.ms/vs/16/release/vc_redist.x64.exe\n"
     ]
    }
   ],
   "source": [
    "# Import requirements\n",
    "import os\n",
    "import json\n",
    "import pretty_midi\n",
    "import numpy as np\n",
    "import torch\n",
    "from torch import nn\n",
    "from torch.utils.data import Dataset, DataLoader\n",
    "from tqdm import tqdm\n",
    "\n",
    "# Configuration\n",
    "MIDI_DIR = r\"C:\\Users\\Avin\\Desktop\\Avin\\transfer\\music trnasformer\\maestro-v2.0.0-midi\\maestro-v2.0.0\"  # <-- Update this\n",
    "SEQUENCE_LENGTH = 512\n",
    "BATCH_SIZE = 16\n",
    "EPOCHS = 20\n",
    "EMBED_DIM = 256\n",
    "NUM_HEADS = 8\n",
    "NUM_LAYERS = 6\n",
    "DEVICE = \"cuda\" if torch.cuda.is_available() else \"cpu\"\n",
    "\n",
    "# Vocabulary\n",
    "PAD_TOKEN = 128\n",
    "EOS_TOKEN = 129\n",
    "VOCAB_SIZE = 130\n"
   ]
  },
  {
   "cell_type": "code",
   "execution_count": 3,
   "metadata": {},
   "outputs": [],
   "source": [
    "#Convert MIDI to event sequence\n",
    "def midi_to_event_sequence(file_path):\n",
    "    midi = pretty_midi.PrettyMIDI(file_path)\n",
    "    events = []\n",
    "    for instrument in midi.instruments:\n",
    "        if instrument.is_drum:\n",
    "            continue\n",
    "        for note in instrument.notes:\n",
    "            events.append((note.start, note.pitch))\n",
    "    events.sort()\n",
    "\n",
    "    sequence = []\n",
    "    prev_time = 0\n",
    "    for time, pitch in events:\n",
    "        wait_steps = int(round((time - prev_time) / 0.1))  # 0.1 sec resolution\n",
    "        sequence += [WAIT_TOKEN] * wait_steps\n",
    "        sequence.append(pitch)\n",
    "        prev_time = time\n",
    "\n",
    "    sequence = sequence[:SEQUENCE_LENGTH - 1] + [EOS_TOKEN]\n",
    "    return sequence\n",
    "\n"
   ]
  },
  {
   "cell_type": "code",
   "execution_count": 4,
   "metadata": {},
   "outputs": [],
   "source": [
    "#Create PyTorch Dataset\n",
    "class MIDIDataset(Dataset):\n",
    "    def __init__(self, midi_folder):\n",
    "        self.sequences = []\n",
    "        for root, _, files in os.walk(midi_folder):\n",
    "            for fname in files:\n",
    "                if fname.endswith(\".mid\") or fname.endswith(\".midi\"):\n",
    "                    path = os.path.join(root, fname)\n",
    "                    try:\n",
    "                        seq = midi_to_pitch_sequence(path)\n",
    "                        if len(seq) < 10:\n",
    "                            continue\n",
    "                        padded = seq + [PAD_TOKEN] * (SEQUENCE_LENGTH - len(seq))\n",
    "                        self.sequences.append(torch.tensor(padded[:SEQUENCE_LENGTH]))\n",
    "                    except:\n",
    "                        continue\n",
    "\n",
    "    def __len__(self):\n",
    "        return len(self.sequences)\n",
    "\n",
    "    def __getitem__(self, idx):\n",
    "        x = self.sequences[idx][:-1]\n",
    "        y = self.sequences[idx][1:]\n",
    "        return x, y\n"
   ]
  },
  {
   "cell_type": "code",
   "execution_count": 5,
   "metadata": {},
   "outputs": [],
   "source": [
    "#Define the Transformer model\n",
    "class PositionalEncoding(nn.Module):\n",
    "    def __init__(self, d_model, max_len=SEQUENCE_LENGTH):\n",
    "        super().__init__()\n",
    "        pe = torch.zeros(max_len, d_model)\n",
    "        position = torch.arange(0, max_len).unsqueeze(1).float()\n",
    "        div_term = torch.exp(torch.arange(0, d_model, 2).float() * -(np.log(10000.0) / d_model))\n",
    "        pe[:, 0::2] = torch.sin(position * div_term)\n",
    "        pe[:, 1::2] = torch.cos(position * div_term)\n",
    "        self.pe = pe.unsqueeze(0)\n",
    "\n",
    "    def forward(self, x):\n",
    "        return x + self.pe[:, :x.size(1)].to(x.device)\n",
    "\n",
    "class MusicTransformer(nn.Module):\n",
    "    def __init__(self, vocab_size=VOCAB_SIZE, d_model=EMBED_DIM, nhead=NUM_HEADS, num_layers=NUM_LAYERS):\n",
    "        super().__init__()\n",
    "        self.embedding = nn.Embedding(vocab_size, d_model)\n",
    "        self.pos_encoder = PositionalEncoding(d_model)\n",
    "        encoder_layer = nn.TransformerEncoderLayer(d_model=d_model, nhead=nhead)\n",
    "        self.transformer = nn.TransformerEncoder(encoder_layer, num_layers=num_layers)\n",
    "        self.decoder = nn.Linear(d_model, vocab_size)\n",
    "\n",
    "    def forward(self, src):\n",
    "        x = self.embedding(src) * np.sqrt(EMBED_DIM)\n",
    "        x = self.pos_encoder(x)\n",
    "        x = self.transformer(x)\n",
    "        return self.decoder(x)\n"
   ]
  },
  {
   "cell_type": "code",
   "execution_count": 9,
   "metadata": {},
   "outputs": [],
   "source": [
    "#Train the model\n",
    "import matplotlib.pyplot as plt\n",
    "\n",
    "def train():\n",
    "    dataset = MIDIDataset(MIDI_DIR)\n",
    "    dataloader = DataLoader(dataset, batch_size=BATCH_SIZE, shuffle=True)\n",
    "\n",
    "    model = MusicTransformer().to(DEVICE)\n",
    "    optimizer = torch.optim.Adam(model.parameters(), lr=1e-4)\n",
    "    loss_fn = nn.CrossEntropyLoss(ignore_index=PAD_TOKEN)\n",
    "\n",
    "    epoch_losses = []\n",
    "\n",
    "    for epoch in range(EPOCHS):\n",
    "        model.train()\n",
    "        total_loss = 0\n",
    "        for x, y in tqdm(dataloader, desc=f\"Epoch {epoch+1}/{EPOCHS}\"):\n",
    "            x, y = x.to(DEVICE), y.to(DEVICE)\n",
    "            logits = model(x)\n",
    "            loss = loss_fn(logits.view(-1, VOCAB_SIZE), y.view(-1))\n",
    "            optimizer.zero_grad()\n",
    "            loss.backward()\n",
    "            optimizer.step()\n",
    "            total_loss += loss.item()\n",
    "\n",
    "        avg_loss = total_loss / len(dataloader)\n",
    "        epoch_losses.append(avg_loss)\n",
    "        print(f\"Epoch {epoch+1}, Loss: {avg_loss:.4f}\")\n",
    "\n",
    "    # Save model\n",
    "    torch.save(model.state_dict(), \"music_transformer.pth\")\n",
    "    print(\"Model saved to music_transformer.pth\")\n",
    "\n",
    "    # Plot loss curve\n",
    "    plt.plot(range(1, EPOCHS + 1), epoch_losses, marker='o')\n",
    "    plt.xlabel(\"Epoch\")\n",
    "    plt.ylabel(\"Average Loss\")\n",
    "    plt.title(\"Training Loss Curve\")\n",
    "    plt.grid(True)\n",
    "    plt.show()\n",
    "\n"
   ]
  },
  {
   "cell_type": "code",
   "execution_count": 11,
   "metadata": {},
   "outputs": [],
   "source": [
    "#Generate a music sequence\n",
    "def generate(model, start_token=60, length=100):\n",
    "    model.eval()\n",
    "    generated = [start_token]\n",
    "    for _ in range(length):\n",
    "        x = torch.tensor(generated[-SEQUENCE_LENGTH+1:] + [PAD_TOKEN] * (SEQUENCE_LENGTH - len(generated) - 1)).unsqueeze(0).to(DEVICE)\n",
    "        logits = model(x)\n",
    "        next_token = torch.argmax(logits[0, -1]).item()\n",
    "        if next_token == EOS_TOKEN or len(generated) >= SEQUENCE_LENGTH:\n",
    "            break\n",
    "        generated.append(next_token)\n",
    "    return generated\n"
   ]
  },
  {
   "cell_type": "code",
   "execution_count": 12,
   "metadata": {},
   "outputs": [
    {
     "name": "stderr",
     "output_type": "stream",
     "text": [
      "C:\\Users\\Avin\\AppData\\Roaming\\Python\\Python312\\site-packages\\torch\\nn\\modules\\transformer.py:382: UserWarning: enable_nested_tensor is True, but self.use_nested_tensor is False because encoder_layer.self_attn.batch_first was not True(use batch_first for better inference performance)\n",
      "  warnings.warn(\n",
      "Epoch 1/20: 100%|██████████| 81/81 [03:26<00:00,  2.55s/it]\n"
     ]
    },
    {
     "name": "stdout",
     "output_type": "stream",
     "text": [
      "Epoch 1, Loss: 4.1380\n"
     ]
    },
    {
     "name": "stderr",
     "output_type": "stream",
     "text": [
      "Epoch 2/20: 100%|██████████| 81/81 [03:26<00:00,  2.55s/it]\n"
     ]
    },
    {
     "name": "stdout",
     "output_type": "stream",
     "text": [
      "Epoch 2, Loss: 3.8979\n"
     ]
    },
    {
     "name": "stderr",
     "output_type": "stream",
     "text": [
      "Epoch 3/20: 100%|██████████| 81/81 [03:37<00:00,  2.68s/it]\n"
     ]
    },
    {
     "name": "stdout",
     "output_type": "stream",
     "text": [
      "Epoch 3, Loss: 3.7768\n"
     ]
    },
    {
     "name": "stderr",
     "output_type": "stream",
     "text": [
      "Epoch 4/20: 100%|██████████| 81/81 [03:35<00:00,  2.66s/it]\n"
     ]
    },
    {
     "name": "stdout",
     "output_type": "stream",
     "text": [
      "Epoch 4, Loss: 3.7298\n"
     ]
    },
    {
     "name": "stderr",
     "output_type": "stream",
     "text": [
      "Epoch 5/20: 100%|██████████| 81/81 [03:35<00:00,  2.66s/it]\n"
     ]
    },
    {
     "name": "stdout",
     "output_type": "stream",
     "text": [
      "Epoch 5, Loss: 3.7142\n"
     ]
    },
    {
     "name": "stderr",
     "output_type": "stream",
     "text": [
      "Epoch 6/20: 100%|██████████| 81/81 [03:36<00:00,  2.67s/it]\n"
     ]
    },
    {
     "name": "stdout",
     "output_type": "stream",
     "text": [
      "Epoch 6, Loss: 3.7057\n"
     ]
    },
    {
     "name": "stderr",
     "output_type": "stream",
     "text": [
      "Epoch 7/20: 100%|██████████| 81/81 [03:36<00:00,  2.67s/it]\n"
     ]
    },
    {
     "name": "stdout",
     "output_type": "stream",
     "text": [
      "Epoch 7, Loss: 3.6985\n"
     ]
    },
    {
     "name": "stderr",
     "output_type": "stream",
     "text": [
      "Epoch 8/20: 100%|██████████| 81/81 [03:35<00:00,  2.67s/it]\n"
     ]
    },
    {
     "name": "stdout",
     "output_type": "stream",
     "text": [
      "Epoch 8, Loss: 3.6948\n"
     ]
    },
    {
     "name": "stderr",
     "output_type": "stream",
     "text": [
      "Epoch 9/20: 100%|██████████| 81/81 [03:34<00:00,  2.65s/it]\n"
     ]
    },
    {
     "name": "stdout",
     "output_type": "stream",
     "text": [
      "Epoch 9, Loss: 3.6932\n"
     ]
    },
    {
     "name": "stderr",
     "output_type": "stream",
     "text": [
      "Epoch 10/20: 100%|██████████| 81/81 [03:36<00:00,  2.67s/it]\n"
     ]
    },
    {
     "name": "stdout",
     "output_type": "stream",
     "text": [
      "Epoch 10, Loss: 3.6906\n"
     ]
    },
    {
     "name": "stderr",
     "output_type": "stream",
     "text": [
      "Epoch 11/20: 100%|██████████| 81/81 [03:36<00:00,  2.67s/it]\n"
     ]
    },
    {
     "name": "stdout",
     "output_type": "stream",
     "text": [
      "Epoch 11, Loss: 3.6879\n"
     ]
    },
    {
     "name": "stderr",
     "output_type": "stream",
     "text": [
      "Epoch 12/20: 100%|██████████| 81/81 [03:34<00:00,  2.65s/it]\n"
     ]
    },
    {
     "name": "stdout",
     "output_type": "stream",
     "text": [
      "Epoch 12, Loss: 3.6819\n"
     ]
    },
    {
     "name": "stderr",
     "output_type": "stream",
     "text": [
      "Epoch 13/20: 100%|██████████| 81/81 [03:36<00:00,  2.67s/it]\n"
     ]
    },
    {
     "name": "stdout",
     "output_type": "stream",
     "text": [
      "Epoch 13, Loss: 3.6797\n"
     ]
    },
    {
     "name": "stderr",
     "output_type": "stream",
     "text": [
      "Epoch 14/20: 100%|██████████| 81/81 [03:35<00:00,  2.66s/it]\n"
     ]
    },
    {
     "name": "stdout",
     "output_type": "stream",
     "text": [
      "Epoch 14, Loss: 3.6787\n"
     ]
    },
    {
     "name": "stderr",
     "output_type": "stream",
     "text": [
      "Epoch 15/20: 100%|██████████| 81/81 [03:35<00:00,  2.66s/it]\n"
     ]
    },
    {
     "name": "stdout",
     "output_type": "stream",
     "text": [
      "Epoch 15, Loss: 3.6756\n"
     ]
    },
    {
     "name": "stderr",
     "output_type": "stream",
     "text": [
      "Epoch 16/20: 100%|██████████| 81/81 [03:38<00:00,  2.70s/it]\n"
     ]
    },
    {
     "name": "stdout",
     "output_type": "stream",
     "text": [
      "Epoch 16, Loss: 3.6766\n"
     ]
    },
    {
     "name": "stderr",
     "output_type": "stream",
     "text": [
      "Epoch 17/20: 100%|██████████| 81/81 [03:25<00:00,  2.54s/it]\n"
     ]
    },
    {
     "name": "stdout",
     "output_type": "stream",
     "text": [
      "Epoch 17, Loss: 3.6674\n"
     ]
    },
    {
     "name": "stderr",
     "output_type": "stream",
     "text": [
      "Epoch 18/20: 100%|██████████| 81/81 [03:27<00:00,  2.56s/it]\n"
     ]
    },
    {
     "name": "stdout",
     "output_type": "stream",
     "text": [
      "Epoch 18, Loss: 3.6718\n"
     ]
    },
    {
     "name": "stderr",
     "output_type": "stream",
     "text": [
      "Epoch 19/20: 100%|██████████| 81/81 [03:30<00:00,  2.60s/it]\n"
     ]
    },
    {
     "name": "stdout",
     "output_type": "stream",
     "text": [
      "Epoch 19, Loss: 3.6650\n"
     ]
    },
    {
     "name": "stderr",
     "output_type": "stream",
     "text": [
      "Epoch 20/20: 100%|██████████| 81/81 [03:33<00:00,  2.64s/it]\n"
     ]
    },
    {
     "name": "stdout",
     "output_type": "stream",
     "text": [
      "Epoch 20, Loss: 3.6602\n",
      "Model saved to music_transformer.pth\n"
     ]
    },
    {
     "data": {
      "image/png": "[encoded data removed]",
      "text/plain": [
       "<Figure size 640x480 with 1 Axes>"
      ]
     },
     "metadata": {},
     "output_type": "display_data"
    }
   ],
   "source": [
    "#Run training\n",
    "train()\n"
   ]
  },
  {
   "cell_type": "code",
   "execution_count": 13,
   "metadata": {},
   "outputs": [
    {
     "name": "stdout",
     "output_type": "stream",
     "text": [
      "Model loaded and ready.\n"
     ]
    }
   ],
   "source": [
    "#Load the trained model\n",
    "model = MusicTransformer().to(DEVICE)\n",
    "model.load_state_dict(torch.load(\"music_transformer.pth\", map_location=DEVICE))\n",
    "model.eval()\n",
    "print(\"Model loaded and ready.\")\n"
   ]
  },
  {
   "cell_type": "code",
   "execution_count": 15,
   "metadata": {},
   "outputs": [],
   "source": [
    "#Generate a new music sequence\n",
    "def generate(model, start_token=60, length=200):\n",
    "    model.eval()\n",
    "    generated = [start_token]\n",
    "\n",
    "    for _ in range(length):\n",
    "        # Prepare input (pad left if needed)\n",
    "        input_seq = generated[-SEQUENCE_LENGTH+1:]\n",
    "        input_seq = input_seq + [PAD_TOKEN] * (SEQUENCE_LENGTH - len(input_seq) - 1)\n",
    "        x = torch.tensor([input_seq], dtype=torch.long).to(DEVICE)\n",
    "\n",
    "        with torch.no_grad():\n",
    "            logits = model(x)\n",
    "            next_token = torch.argmax(logits[0, -1]).item()\n",
    "\n",
    "        if next_token == EOS_TOKEN:\n",
    "            break\n",
    "\n",
    "        generated.append(next_token)\n",
    "\n",
    "    return generated\n"
   ]
  },
  {
   "cell_type": "code",
   "execution_count": 16,
   "metadata": {},
   "outputs": [
    {
     "name": "stdout",
     "output_type": "stream",
     "text": [
      "Generated sequence: [60]\n"
     ]
    }
   ],
   "source": [
    "#Generate a sequence\n",
    "sample = generate(model, start_token=60, length=200)\n",
    "print(\"Generated sequence:\", sample)\n"
   ]
  },
  {
   "cell_type": "code",
   "execution_count": 17,
   "metadata": {},
   "outputs": [],
   "source": [
    "#Convert to MIDI and save\n",
    "def save_sequence_to_midi(sequence, file_name=\"generated_song.mid\", wait_time=0.1, note_length=0.3):\n",
    "    midi = pretty_midi.PrettyMIDI()\n",
    "    instrument = pretty_midi.Instrument(program=0)\n",
    "    time = 0\n",
    "    for token in sequence:\n",
    "        if token == WAIT_TOKEN:\n",
    "            time += wait_time\n",
    "        elif 0 <= token < 128:\n",
    "            note = pretty_midi.Note(velocity=100, pitch=token, start=time, end=time + note_length)\n",
    "            instrument.notes.append(note)\n",
    "            time += note_length\n",
    "    midi.instruments.append(instrument)\n",
    "    midi.write(file_name)\n",
    "    print(f\"MIDI file saved to {file_name}\")\n",
    "\n"
   ]
  },
  {
   "cell_type": "code",
   "execution_count": 18,
   "metadata": {},
   "outputs": [
    {
     "name": "stdout",
     "output_type": "stream",
     "text": [
      "MIDI file saved as my_generated_piece.mid\n"
     ]
    }
   ],
   "source": [
    "save_sequence_to_midi(sample, file_name=\"my_generated_piece.mid\")"
   ]
  }
 ],
 "metadata": {
  "kernelspec": {
   "display_name": "Python 3",
   "language": "python",
   "name": "python3"
  },
  "language_info": {
   "codemirror_mode": {
    "name": "ipython",
    "version": 3
   },
   "file_extension": ".py",
   "mimetype": "text/x-python",
   "name": "python",
   "nbconvert_exporter": "python",
   "pygments_lexer": "ipython3",
   "version": "3.12.6"
  }
 },
 "nbformat": 4,
 "nbformat_minor": 2
}
